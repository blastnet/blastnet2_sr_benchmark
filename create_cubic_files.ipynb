{
 "cells": [
  {
   "cell_type": "code",
   "execution_count": 1,
   "metadata": {},
   "outputs": [
    {
     "name": "stderr",
     "output_type": "stream",
     "text": [
      "/Users/wtchung/miniconda3/envs/lassen_clone_39/lib/python3.9/site-packages/scipy/__init__.py:146: UserWarning: A NumPy version >=1.16.5 and <1.23.0 is required for this version of SciPy (detected version 1.23.5\n",
      "  warnings.warn(f\"A NumPy version >={np_minversion} and <{np_maxversion}\"\n"
     ]
    }
   ],
   "source": [
    "#written by W.T. Chung\n",
    "#creates cubic files for blastnet2\n",
    "from scipy.ndimage import zoom\n",
    "import os\n",
    "import numpy as np\n",
    "import matplotlib.pyplot as plt"
   ]
  },
  {
   "cell_type": "code",
   "execution_count": 2,
   "metadata": {},
   "outputs": [],
   "source": [
    "path = './data/'\n",
    "outpath = './data/cubic/'\n",
    "upscale_list = [8,16,32]\n",
    "folder_list = ['test']"
   ]
  },
  {
   "cell_type": "code",
   "execution_count": 3,
   "metadata": {},
   "outputs": [],
   "source": [
    "for upscale in upscale_list:\n",
    "    for folder in folder_list:\n",
    "        #make folders\n",
    "        os.makedirs(outpath+'LR_'+str(upscale)+'x/'+folder, exist_ok=True)\n",
    "        #read images from input path\n",
    "        input_path = path+'LR_'+str(upscale)+'x/'\n",
    "        for filename in os.listdir(input_path+folder):\n",
    "            if filename.endswith(\".dat\"):\n",
    "                xpath = input_path+folder+'/'+filename\n",
    "                arr  = np.memmap(xpath,dtype=np.float32).reshape(128//upscale,128//upscale,128//upscale)\n",
    "                #resize\n",
    "                img = zoom(arr, upscale, order=3, mode='nearest').astype('<f4')\n",
    "                img.tofile(outpath+'LR_'+str(upscale)+'x/'+folder+'/'+filename,format='<f4')\n"
   ]
  }
 ],
 "metadata": {
  "kernelspec": {
   "display_name": "lassen_clone_39",
   "language": "python",
   "name": "python3"
  },
  "language_info": {
   "codemirror_mode": {
    "name": "ipython",
    "version": 3
   },
   "file_extension": ".py",
   "mimetype": "text/x-python",
   "name": "python",
   "nbconvert_exporter": "python",
   "pygments_lexer": "ipython3",
   "version": "3.9.16"
  },
  "orig_nbformat": 4
 },
 "nbformat": 4,
 "nbformat_minor": 2
}
